{
 "cells": [
  {
   "cell_type": "markdown",
   "metadata": {},
   "source": [
    "# Python pour traiter des fichier Excel avec OPENPXL\n",
    "\n",
    "## Documentation\n",
    "\n",
    "Vous trouverez de nombreuses documentation sur ce sujet. A noter également qu'il existe plusieurs librairies qui permettent de manipuler Excel avec Python, j'ai noté : \n",
    "- OPENPYXL que l'on va utiliser pour ce cours\n",
    "\n",
    "Documentation de la librairie OPENPYXL (en anglais) : https://openpyxl.readthedocs.io/en/stable/\n",
    "\n",
    "Tutoriel (en anglais) : https://realpython.com/openpyxl-excel-spreadsheets-python/\n",
    "\n",
    "## Exercices pratiques"
   ]
  },
  {
   "cell_type": "code",
   "execution_count": 1,
   "metadata": {},
   "outputs": [],
   "source": [
    "# Chargement des librairies\n",
    "import openpyxl\n",
    "from openpyxl import Workbook, load_workbook\n",
    "\n",
    "openpyxl.__version__\n"
   ]
  },
  {
   "cell_type": "markdown",
   "metadata": {},
   "source": [
    "## Création d'un classeur Excel \n",
    "\n",
    "- Creez un nouveau classeur Excel\n",
    "- Dans la feuille active, dans la cellule A1, insérez la chaine de caractères \"Hello world\" \n",
    "- Sauvegardez votre classeur Excel"
   ]
  },
  {
   "cell_type": "code",
   "execution_count": null,
   "metadata": {},
   "outputs": [],
   "source": []
  },
  {
   "cell_type": "markdown",
   "metadata": {},
   "source": [
    "## Importer des données d'un classeur Excel \n",
    "\n",
    "- Chargez le fichier Excel \"Excel - Challenge 2 - Croisement Bdd - Beaver Dam Craft Ales.xlsx\" vu dans le cours numéro 2\n",
    "- Affichez les noms des feuilles contenu dans le classeur Excel. "
   ]
  },
  {
   "cell_type": "code",
   "execution_count": 2,
   "metadata": {},
   "outputs": [],
   "source": [
    "# Chargement du fichier\n",
    "\n",
    "# Afficher les noms des feuilles\n"
   ]
  },
  {
   "cell_type": "markdown",
   "metadata": {},
   "source": [
    "## Manipuler les feuilles et les données\n",
    "\n",
    "\n",
    "- Insérer le contenu de la feuille \"Beer\" dans un nouvel objet \"sheet\"\n",
    "- Affichez le titre de l'objet \"sheet\""
   ]
  },
  {
   "cell_type": "code",
   "execution_count": null,
   "metadata": {},
   "outputs": [],
   "source": []
  },
  {
   "cell_type": "markdown",
   "metadata": {},
   "source": [
    "- Afficher le contenu de la cellule B2\n",
    "\n",
    "vous pouvez utiliser plusieurs méthodes\n",
    "\n",
    "Attention, si vous utiliser \"cell\", contrairement à tous ce que vous faites avec python, l'index commence systématiquement à 1 avec Excel."
   ]
  },
  {
   "cell_type": "code",
   "execution_count": null,
   "metadata": {},
   "outputs": [],
   "source": []
  },
  {
   "cell_type": "code",
   "execution_count": null,
   "metadata": {},
   "outputs": [],
   "source": []
  },
  {
   "cell_type": "markdown",
   "metadata": {},
   "source": [
    "- créez une boucle avec iter_row pour afficher le contenu de la colonne 2 de la feuille \"Beer\""
   ]
  },
  {
   "cell_type": "code",
   "execution_count": null,
   "metadata": {},
   "outputs": [],
   "source": []
  },
  {
   "cell_type": "markdown",
   "metadata": {},
   "source": [
    "## Utiliser Pandas\n",
    "\n",
    "\n",
    "- insérez les données présentes dans la feuille \"Beer\" à l'intérieur d'un dataframe panda\n",
    "- affichez le dataframe\n",
    "\n",
    "voir : https://openpyxl.readthedocs.io/en/stable/pandas.html\n",
    "\n"
   ]
  },
  {
   "cell_type": "code",
   "execution_count": 3,
   "metadata": {},
   "outputs": [],
   "source": [
    "from pandas import DataFrame"
   ]
  },
  {
   "cell_type": "code",
   "execution_count": null,
   "metadata": {},
   "outputs": [],
   "source": []
  },
  {
   "cell_type": "markdown",
   "metadata": {},
   "source": [
    "## Creer un nouvelle feuille et copier des données\n",
    "\n",
    "\n",
    "- importez le dataframe que vous venez de créer dans une nouvelle feuille nommée \"Beer_copy\"\n",
    "\n",
    "fonctions : create_sheet et dataframe_to_rows"
   ]
  },
  {
   "cell_type": "code",
   "execution_count": 4,
   "metadata": {},
   "outputs": [],
   "source": [
    "from openpyxl.utils.dataframe import dataframe_to_rows\n",
    "\n"
   ]
  },
  {
   "cell_type": "markdown",
   "metadata": {},
   "source": [
    "- créez un copie de la feuille \"Beer_copy\" en utilisant la fonction copy_worksheet()"
   ]
  },
  {
   "cell_type": "code",
   "execution_count": null,
   "metadata": {},
   "outputs": [],
   "source": []
  },
  {
   "cell_type": "code",
   "execution_count": null,
   "metadata": {},
   "outputs": [],
   "source": []
  },
  {
   "cell_type": "markdown",
   "metadata": {},
   "source": [
    "## Ajouter et supprimer des colonnes et des feuilles\n",
    "\n",
    "- Ajouter une colonne dans l'onglet que vous venez de créer entre la colonne produit et la colonne price. Cette colonne doit porter comme titre \"cout de production\"\n",
    "- vérifiez votre opération en affichant la feuille \"beer_copy\" (en utilisant pandas).\n",
    "- supprimez la colonne que vous venez de créer\n",
    "- supprimez la feuille \"Beer_copy\"\n",
    "\n",
    "fonction : insert_cols() - delete_cols()"
   ]
  },
  {
   "cell_type": "code",
   "execution_count": 5,
   "metadata": {},
   "outputs": [],
   "source": [
    "# Ajout d'une colonne \"Cout de production\"\n",
    "\n"
   ]
  },
  {
   "cell_type": "code",
   "execution_count": 6,
   "metadata": {},
   "outputs": [],
   "source": [
    "# Afficher le résultat\n"
   ]
  },
  {
   "cell_type": "code",
   "execution_count": 7,
   "metadata": {},
   "outputs": [],
   "source": [
    "# Supprimer la colonne \"Cout de production\"\n",
    "\n"
   ]
  },
  {
   "cell_type": "code",
   "execution_count": 8,
   "metadata": {},
   "outputs": [],
   "source": [
    "# Supprimer la feuille \"Beer_copy\"\n"
   ]
  },
  {
   "cell_type": "markdown",
   "metadata": {},
   "source": [
    "## Ajouter des formules\n",
    "\n",
    "- dans la feuille \"beer\", ajouter une colonne \"Price * 100\", puis insérez une formule dans la ligne d'en dessous pour multiplier le prix par 100"
   ]
  },
  {
   "cell_type": "code",
   "execution_count": 9,
   "metadata": {},
   "outputs": [],
   "source": [
    "from openpyxl.utils import FORMULAE\n",
    "\n",
    "\n"
   ]
  },
  {
   "cell_type": "markdown",
   "metadata": {},
   "source": [
    "- creer un boucle pour ajouter la formule qui permet de multplier le prix par 100 dans chaque ligne qui contient des données."
   ]
  },
  {
   "cell_type": "code",
   "execution_count": null,
   "metadata": {},
   "outputs": [],
   "source": [
    "\n",
    "\n"
   ]
  },
  {
   "cell_type": "markdown",
   "metadata": {},
   "source": [
    "- Creez une nouvelle feuille nommée \"CALC_CUSTOMER\" et reproduisez les formules que vous trouverez dans la correction sur le moodle. \n",
    "\n",
    "Vous pouvez utiser la fontion Translator pour décaller une formule"
   ]
  },
  {
   "cell_type": "code",
   "execution_count": null,
   "metadata": {},
   "outputs": [],
   "source": []
  },
  {
   "cell_type": "code",
   "execution_count": 10,
   "metadata": {},
   "outputs": [],
   "source": [
    "from openpyxl.formula.translate import Translator\n"
   ]
  },
  {
   "cell_type": "markdown",
   "metadata": {},
   "source": [
    "## Ajouter des graphiques\n",
    "\n",
    "- dans la feuille \"beer\", créez un graphique en barre pour représenter les prix des différentes bières"
   ]
  },
  {
   "cell_type": "code",
   "execution_count": 11,
   "metadata": {},
   "outputs": [],
   "source": [
    "from openpyxl.chart import BarChart, Reference\n"
   ]
  }
 ],
 "metadata": {
  "kernelspec": {
   "display_name": "Python 3",
   "language": "python",
   "name": "python3"
  },
  "language_info": {
   "codemirror_mode": {
    "name": "ipython",
    "version": 3
   },
   "file_extension": ".py",
   "mimetype": "text/x-python",
   "name": "python",
   "nbconvert_exporter": "python",
   "pygments_lexer": "ipython3",
   "version": "3.8.5"
  }
 },
 "nbformat": 4,
 "nbformat_minor": 2
}
